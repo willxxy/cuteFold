{
 "cells": [
  {
   "cell_type": "code",
   "execution_count": 1,
   "id": "40d9a759",
   "metadata": {},
   "outputs": [],
   "source": [
    "import nglview as nv\n",
    "import pytraj as pt\n",
    "import ipywidgets\n",
    "from Bio.PDB import *"
   ]
  },
  {
   "cell_type": "code",
   "execution_count": 2,
   "id": "9639dba1",
   "metadata": {},
   "outputs": [
    {
     "data": {
      "image/png": "\n",
      "text/plain": [
       "<IPython.core.display.Image object>"
      ]
     },
     "execution_count": 2,
     "metadata": {},
     "output_type": "execute_result"
    }
   ],
   "source": [
    "traj = pt.load('protein_data/aminopeptidase/AF-A0A452TQJ8-F1-model_v3.pdb')\n",
    "view = nv.show_pytraj(traj)\n",
    "view\n",
    "view.render_image()\n",
    "view._display_image()"
   ]
  },
  {
   "cell_type": "code",
   "execution_count": 3,
   "id": "33c209d9",
   "metadata": {},
   "outputs": [
    {
     "data": {
      "image/png": "\n",
      "text/plain": [
       "<IPython.core.display.Image object>"
      ]
     },
     "execution_count": 3,
     "metadata": {},
     "output_type": "execute_result"
    }
   ],
   "source": [
    "pdb_parser = PDBParser()\n",
    "structure = pdb_parser.get_structure(\"ANPEP\", \"protein_data/aminopeptidase/AF-A0A452TQJ8-F1-model_v3.pdb\")\n",
    "view = nv.show_biopython(structure)\n",
    "view.render_image()\n",
    "view._display_image()"
   ]
  },
  {
   "cell_type": "code",
   "execution_count": null,
   "id": "d94a8261",
   "metadata": {},
   "outputs": [],
   "source": []
  }
 ],
 "metadata": {
  "kernelspec": {
   "display_name": "myenv",
   "language": "python",
   "name": "myenv"
  },
  "language_info": {
   "codemirror_mode": {
    "name": "ipython",
    "version": 3
   },
   "file_extension": ".py",
   "mimetype": "text/x-python",
   "name": "python",
   "nbconvert_exporter": "python",
   "pygments_lexer": "ipython3",
   "version": "3.8.13"
  }
 },
 "nbformat": 4,
 "nbformat_minor": 5
}
